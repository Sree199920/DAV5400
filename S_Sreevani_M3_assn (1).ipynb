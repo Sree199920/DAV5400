{
  "nbformat": 4,
  "nbformat_minor": 0,
  "metadata": {
    "colab": {
      "provenance": []
    },
    "kernelspec": {
      "name": "python3",
      "display_name": "Python 3"
    },
    "language_info": {
      "name": "python"
    }
  },
  "cells": [
    {
      "cell_type": "markdown",
      "source": [
        "1. (5 Points) Write a Python/NumPy code block that finds the distinct array items that exist in either array a or array b\n",
        "but which do not appear within both arrays:\n",
        "a = np.array([1, 2, 3, 2, 3, 4, 3, 4, 5, 6])\n",
        "b = np.array([7, 2, 10, 2, 7, 4, 9, 4, 9, 8])"
      ],
      "metadata": {
        "id": "679ZY_mQtgtg"
      }
    },
    {
      "cell_type": "code",
      "execution_count": null,
      "metadata": {
        "colab": {
          "base_uri": "https://localhost:8080/"
        },
        "id": "59tLrKB_1i19",
        "outputId": "3b94924c-93d9-48e5-be79-78a06d3492d6"
      },
      "outputs": [
        {
          "output_type": "execute_result",
          "data": {
            "text/plain": [
              "array([ 1,  3,  5,  6,  7,  8,  9, 10])"
            ]
          },
          "metadata": {},
          "execution_count": 2
        }
      ],
      "source": [
        "import numpy as np\n",
        "\n",
        "a = np.array([1, 2, 3, 2, 3, 4, 3, 4, 5, 6])\n",
        "b = np.array([7, 2, 10, 2, 7, 4, 9, 4, 9, 8])\n",
        "\n",
        "# Find the unique elements in each array\n",
        "unique_a = np.unique(a)\n",
        "unique_b = np.unique(b)\n",
        "\n",
        "# Find elements that are unique to array a and array b\n",
        "only_in_a = np.setdiff1d(unique_a, unique_b)\n",
        "only_in_b = np.setdiff1d(unique_b, unique_a)\n",
        "\n",
        "# Concatenate the unique elements and display them\n",
        "unique_elements = np.concatenate((only_in_a, only_in_b))\n",
        "unique_elements"
      ]
    },
    {
      "cell_type": "markdown",
      "source": [
        "2. (5 Points) Create the following 4x5 array using knowledge you have of Python’s / NumPy’s sequencing functionality\n",
        "so that you do not need to explicitly key in every integer value.\n"
      ],
      "metadata": {
        "id": "1QOEpZAztp-g"
      }
    },
    {
      "cell_type": "code",
      "source": [
        "# Create a 1D array from 1 to 20\n",
        "sequence = np.arange(1, 21)\n",
        "\n",
        "# Reshape it to a 5x4 matrix and then transpose it to get a 4x5 matrix\n",
        "desired_array = sequence.reshape((5, 4)).T\n",
        "desired_array\n"
      ],
      "metadata": {
        "colab": {
          "base_uri": "https://localhost:8080/"
        },
        "id": "C_uVBC4l3FLJ",
        "outputId": "52a0ea7a-b58d-4898-aacf-e96d2b1f04c2"
      },
      "execution_count": null,
      "outputs": [
        {
          "output_type": "execute_result",
          "data": {
            "text/plain": [
              "array([[ 1,  5,  9, 13, 17],\n",
              "       [ 2,  6, 10, 14, 18],\n",
              "       [ 3,  7, 11, 15, 19],\n",
              "       [ 4,  8, 12, 16, 20]])"
            ]
          },
          "metadata": {},
          "execution_count": 3
        }
      ]
    },
    {
      "cell_type": "markdown",
      "source": [
        "3. (5 Points) You are given the following two arrays:\n",
        "a = np.array([12, 5, 7, 15, 3, 1, 8])\n",
        "b = np.array([14, 6, 3, 11, 19, 12, 5, 3, 4])\n",
        "Write a Python/Numpy code block that adds to array a any items that are present in array b but not already present\n",
        "within array a.\n"
      ],
      "metadata": {
        "id": "DxJaaReztraS"
      }
    },
    {
      "cell_type": "code",
      "source": [
        "import numpy as np\n",
        "\n",
        "a = np.array([12, 5, 7, 15, 3, 1, 8])\n",
        "b = np.array([14, 6, 3, 11, 19, 12, 5, 3, 4])\n",
        "\n",
        "# Find elements that are in b but not in a\n",
        "unique_to_b = np.setdiff1d(b, a)\n",
        "\n",
        "# Add these elements to a\n",
        "a_extended = np.concatenate((a, unique_to_b))\n",
        "a_extended"
      ],
      "metadata": {
        "colab": {
          "base_uri": "https://localhost:8080/"
        },
        "id": "fty3D13Y3VPd",
        "outputId": "0f2d4ab4-1a5a-49ae-e9f6-e50e4ff0eab8"
      },
      "execution_count": null,
      "outputs": [
        {
          "output_type": "execute_result",
          "data": {
            "text/plain": [
              "array([12,  5,  7, 15,  3,  1,  8,  4,  6, 11, 14, 19])"
            ]
          },
          "metadata": {},
          "execution_count": 4
        }
      ]
    },
    {
      "cell_type": "markdown",
      "source": [
        "4. (7 Points) The process of transforming a multidimensional array into a unidimensional array is referred to as\n",
        "“flattening”. Transform the 4x5 array shown above in Problem 2 into a unidimensional array such that the sequence of\n",
        "values contained within the array is as follows: 1, 2, 3, 4, 5, 6, 7, 8, 9, 10, 11, 12, 13, 14, 15, 16, 17, 18, 19, 20\n"
      ],
      "metadata": {
        "id": "utAwc-kvvtb_"
      }
    },
    {
      "cell_type": "code",
      "source": [
        "# 4x5 array from previous tasks\n",
        "array_4x5 = np.array([[ 1,  5,  9, 13, 17],\n",
        "                      [ 2,  6, 10, 14, 18],\n",
        "                      [ 3,  7, 11, 15, 19],\n",
        "                      [ 4,  8, 12, 16, 20]])\n",
        "\n",
        "# Transpose and then flatten the array\n",
        "flattened_array = array_4x5.T.ravel()\n",
        "flattened_array\n"
      ],
      "metadata": {
        "colab": {
          "base_uri": "https://localhost:8080/"
        },
        "id": "pLN689Jb3dcn",
        "outputId": "8631b842-61cc-4e48-de21-ffef9d2ca251"
      },
      "execution_count": null,
      "outputs": [
        {
          "output_type": "execute_result",
          "data": {
            "text/plain": [
              "array([ 1,  2,  3,  4,  5,  6,  7,  8,  9, 10, 11, 12, 13, 14, 15, 16, 17,\n",
              "       18, 19, 20])"
            ]
          },
          "metadata": {},
          "execution_count": 5
        }
      ]
    },
    {
      "cell_type": "markdown",
      "source": [
        "5. (8 Points) For this problem you will load a small data set to your online GitHub repository and then read it into a\n",
        "NumPy 2D array. You will then use the content that NumPy array to answer a series of analytical questions.\n",
        "The original source of the data set contains an overview of its content:"
      ],
      "metadata": {
        "id": "A-Efo7E7wlH7"
      }
    },
    {
      "cell_type": "code",
      "source": [
        "import pandas\n",
        "import numpy as np\n",
        "# suppress scientific notation\n",
        "np.set_printoptions(suppress = True)\n",
        "# read the data file from GitHub and convert to a NumPy ndarray object\n",
        "# be sure to replace the ‘link_to_raw_copy of data file in your Github Repository’ placeholder shown below\n",
        "# with a link to the “raw” version of the file you pushed to your online GitHub repository\n",
        "nyc_water = pandas.read_csv('https://raw.githubusercontent.com/Sree199920/DAV5400/main/M3_Data_1040247735.csv').to_numpy()\n",
        "# verify you have an ndarray object\n",
        "type(nyc_water)\n",
        "type_of_nyc_water, nyc_water[:5]  # Displaying the type and first 5 rows of the data for verification\n",
        "\n"
      ],
      "metadata": {
        "colab": {
          "base_uri": "https://localhost:8080/"
        },
        "id": "wKjCtg4TRGDB",
        "outputId": "6a67b12a-c6f5-4d97-f2b3-5a1b4ac5ab81"
      },
      "execution_count": 14,
      "outputs": [
        {
          "output_type": "execute_result",
          "data": {
            "text/plain": [
              "(numpy.ndarray,\n",
              " array([[   1979., 7102100.,    1512.,     213.],\n",
              "        [   1980., 7071639.,    1506.,     213.],\n",
              "        [   1981., 7089241.,    1309.,     185.],\n",
              "        [   1982., 7109105.,    1382.,     194.],\n",
              "        [   1983., 7181224.,    1424.,     198.]]))"
            ]
          },
          "metadata": {},
          "execution_count": 14
        }
      ]
    },
    {
      "cell_type": "markdown",
      "source": [
        "Which year had the maximum per capita daily water consumption?"
      ],
      "metadata": {
        "id": "5QJHR8CWyZAi"
      }
    },
    {
      "cell_type": "code",
      "source": [
        "import numpy as np\n",
        "import pandas as pd\n",
        "\n",
        "# Assuming nyc_water is your data in a NumPy array\n",
        "# Identify the index of the maximum per capita daily water consumption\n",
        "max_per_capita_idx = np.argmax(nyc_water[:, 3])\n",
        "\n",
        "# Find the corresponding year\n",
        "year_max_per_capita = nyc_water[max_per_capita_idx, 0]\n",
        "year_max_per_capita"
      ],
      "metadata": {
        "colab": {
          "base_uri": "https://localhost:8080/"
        },
        "id": "uSe21zmi5ACQ",
        "outputId": "943ea398-34f3-49be-d563-87a704776947"
      },
      "execution_count": 15,
      "outputs": [
        {
          "output_type": "execute_result",
          "data": {
            "text/plain": [
              "1979.0"
            ]
          },
          "metadata": {},
          "execution_count": 15
        }
      ]
    },
    {
      "cell_type": "markdown",
      "source": [
        " Add a new column to the Numpy array containing the annual change in the population of the city from year to\n",
        "year. (HINT: Your new column should include the calculation of a data value for every year represented within\n",
        "the data set except for the first year, which should contain a data value of ‘N/A’)"
      ],
      "metadata": {
        "id": "NnFMf2LOygPF"
      }
    },
    {
      "cell_type": "code",
      "source": [
        "# Calculate the annual change in population\n",
        "population_change = np.diff(nyc_water[:, 1], prepend=nyc_water[0, 1])\n",
        "\n",
        "# Add the population change as a new column to nyc_water array\n",
        "nyc_water_extended = np.column_stack((nyc_water, population_change))\n",
        "\n",
        "# Verify the operation by displaying the first few rows of the updated array\n",
        "print(nyc_water_extended[:5])"
      ],
      "metadata": {
        "colab": {
          "base_uri": "https://localhost:8080/"
        },
        "id": "EOyqw4I76Lbx",
        "outputId": "74b9f06e-c3bc-4226-b5a5-4e66854a632f"
      },
      "execution_count": 16,
      "outputs": [
        {
          "output_type": "stream",
          "name": "stdout",
          "text": [
            "[[   1979. 7102100.    1512.     213.       0.]\n",
            " [   1980. 7071639.    1506.     213.  -30461.]\n",
            " [   1981. 7089241.    1309.     185.   17602.]\n",
            " [   1982. 7109105.    1382.     194.   19864.]\n",
            " [   1983. 7181224.    1424.     198.   72119.]]\n"
          ]
        }
      ]
    },
    {
      "cell_type": "markdown",
      "source": [
        "What is the median and variance of the population of the city during the time period represented within the\n",
        "data set?"
      ],
      "metadata": {
        "id": "QDaJVpkpylzR"
      }
    },
    {
      "cell_type": "code",
      "source": [
        "# Calculate the median and variance of the population\n",
        "population_median = np.median(nyc_water[:, 1])\n",
        "population_variance = np.var(nyc_water[:, 1])\n",
        "\n",
        "population_median, population_variance"
      ],
      "metadata": {
        "colab": {
          "base_uri": "https://localhost:8080/"
        },
        "id": "_5hK3k-l6NrS",
        "outputId": "7db9f25e-d9cb-49c5-a3d6-1159541b8881"
      },
      "execution_count": 17,
      "outputs": [
        {
          "output_type": "execute_result",
          "data": {
            "text/plain": [
              "(7947660.0, 214014109798.73172)"
            ]
          },
          "metadata": {},
          "execution_count": 17
        }
      ]
    },
    {
      "cell_type": "markdown",
      "source": [
        "What was the average annual change in the population of the city?"
      ],
      "metadata": {
        "id": "b0sbhJWjz8FE"
      }
    },
    {
      "cell_type": "code",
      "source": [
        "# Calculate the annual change in population\n",
        "population_change = np.diff(nyc_water[:, 1], prepend=nyc_water[0, 1])\n",
        "\n",
        "# Calculate the average annual change in population\n",
        "average_annual_change = np.mean(population_change[1:])  # exclude the first element (it's the same as the first population count)\n",
        "\n",
        "average_annual_change\n"
      ],
      "metadata": {
        "colab": {
          "base_uri": "https://localhost:8080/"
        },
        "id": "0VgntHAAy3B9",
        "outputId": "06e772d1-b413-40c4-ff8b-8e739288bafd"
      },
      "execution_count": 18,
      "outputs": [
        {
          "output_type": "execute_result",
          "data": {
            "text/plain": [
              "30867.925"
            ]
          },
          "metadata": {},
          "execution_count": 18
        }
      ]
    }
  ]
}